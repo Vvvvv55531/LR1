{
 "cells": [
  {
   "cell_type": "markdown",
   "id": "e08b3292-7d11-4e73-9638-b977ec276002",
   "metadata": {},
   "source": [
    "Импортируем библиотеку pandas. Создадим БД из файла auto.czv. Выведем результат"
   ]
  },
  {
   "cell_type": "code",
   "execution_count": null,
   "id": "9933d442-7f36-479e-98ed-a6283a6dbc80",
   "metadata": {},
   "outputs": [],
   "source": [
    "import pandas as pd\n",
    "\n",
    "df = pd.read_csv('auto.csv');\n",
    "print(df);"
   ]
  },
  {
   "cell_type": "markdown",
   "id": "051bde1c-c3d4-463a-9331-8f3c50d943ea",
   "metadata": {},
   "source": [
    "Получим информацию о первых 20 строках БД с помощью метода head. Передадим ему число строк, нужных для вывода"
   ]
  },
  {
   "cell_type": "code",
   "execution_count": null,
   "id": "a8cf89a7-9fc1-40af-b09f-a5eaf38d548e",
   "metadata": {},
   "outputs": [],
   "source": [
    "print(df.head(20));"
   ]
  },
  {
   "cell_type": "markdown",
   "id": "40b8c725-87a6-4726-b9ee-1ec3188282b5",
   "metadata": {},
   "source": [
    "Данные представляют собой информацию о подержанных автомобилях, выставленных на продажу. В таблице содержатся следующие столбцы:\n",
    "Name - Название и модель автомобиля;\n",
    "year - Год выпуска автомобиля;\n",
    "SellingPrice - Цена продажи автомобиля в рублях;\n",
    "kmdriven - Пробег автомобиля в километрах;\n",
    "fuel - Тип топлива, используемый автомобилем;\n",
    "seller_Type - Тип продавца;\n",
    "transmission - Тип коробки передач;\n",
    "owner - Количество предыдущих владельцев.\n",
    "Предметная область данных — вторичный рынок автомобилей. На основе этих данных можно анализировать цены на подержанные автомобили в зависимости от их характеристик, таких как год выпуска, пробег, тип топлива и количество владельцев. Это полезно для покупателей, которые хотят оценить, насколько справедлива цена, и для продавцов, которые хотят определить рыночную стоимость своих автомобилей"
   ]
  },
  {
   "cell_type": "markdown",
   "id": "f2d4ed37-0997-4164-ac75-d49d82f5ea50",
   "metadata": {},
   "source": [
    "Получим информацию по столбцам с помощью info"
   ]
  },
  {
   "cell_type": "code",
   "execution_count": null,
   "id": "e8d50599-a585-4bfc-93f6-3c7bdff6afdb",
   "metadata": {},
   "outputs": [],
   "source": [
    "print(df.info());"
   ]
  },
  {
   "cell_type": "markdown",
   "id": "96e51966-ffe6-42ba-8366-c8e92ca79f1b",
   "metadata": {},
   "source": [
    "Выведем информацию по числовым данным, используя метод describe"
   ]
  },
  {
   "cell_type": "code",
   "execution_count": null,
   "id": "6c433d60-6bc1-4e79-9afa-8f85996fd5dd",
   "metadata": {},
   "outputs": [],
   "source": [
    "print(df.describe());"
   ]
  },
  {
   "cell_type": "markdown",
   "id": "83824854-e78c-450b-90e3-8a3b671fc29c",
   "metadata": {},
   "source": [
    "Исследуем названия столбцов при помощи colums"
   ]
  },
  {
   "cell_type": "code",
   "execution_count": null,
   "id": "7a18e704-b80a-4a41-80d4-5e84e550a64c",
   "metadata": {},
   "outputs": [],
   "source": [
    "print(df.columns);"
   ]
  },
  {
   "cell_type": "markdown",
   "id": "4bc9276a-a30a-43d3-9994-74ca418eb84c",
   "metadata": {},
   "source": [
    "Заметим, что часть названий отличается от общего вида. Для улучшения читаемости приведем их к стилю snake_case. Используем rename"
   ]
  },
  {
   "cell_type": "code",
   "execution_count": null,
   "id": "e2ed7a24-80c1-47ba-9972-bd3289e35bbb",
   "metadata": {},
   "outputs": [],
   "source": [
    "df = df.rename(columns={'Name': 'name', 'SellingPrice': 'selling_price', 'seller_Type': 'seller_type'})\n",
    "print(df.columns);"
   ]
  },
  {
   "cell_type": "markdown",
   "id": "ed82b1f7-b084-464e-8b34-4748df6bdee6",
   "metadata": {},
   "source": [
    "Проверим результат"
   ]
  },
  {
   "cell_type": "markdown",
   "id": "e8eea0ab-69d8-49e1-a5bb-07c9ada03189",
   "metadata": {},
   "source": [
    "Перейдем к поиску пропущенных значений. Посчитаем найденные методом isna пропуски с помощью sum"
   ]
  },
  {
   "cell_type": "code",
   "execution_count": null,
   "id": "cc3b7a22-f4b9-44bc-bab9-162a9c141715",
   "metadata": {},
   "outputs": [],
   "source": [
    "print(df.isna().sum());"
   ]
  },
  {
   "cell_type": "markdown",
   "id": "b91af901-8eab-41cd-93e6-df1f435fb419",
   "metadata": {},
   "source": [
    "Избавимся от строк с неполными данными в полях selling_price, kmdriven, fuel и посмотрим на итог"
   ]
  },
  {
   "cell_type": "code",
   "execution_count": null,
   "id": "89bdf513-e892-455b-93eb-d431ee4398e9",
   "metadata": {},
   "outputs": [],
   "source": [
    "df = df.dropna(subset=['selling_price', 'kmdriven', 'fuel']);\n",
    "print(df.isna().sum());"
   ]
  },
  {
   "cell_type": "markdown",
   "id": "ddad1b73-fe31-4703-b5b4-897ebf35bf6f",
   "metadata": {},
   "source": [
    "Выявим дубликаты. Начнем с явных. Применим метод duplicated в связке с sum"
   ]
  },
  {
   "cell_type": "code",
   "execution_count": null,
   "id": "1d9091f7-0228-4aa0-ba58-9358937724f2",
   "metadata": {},
   "outputs": [],
   "source": [
    "print(df.duplicated().sum());"
   ]
  },
  {
   "cell_type": "markdown",
   "id": "ae96733a-f70a-4c93-ac56-cf0e600043a8",
   "metadata": {},
   "source": [
    "Отчистим БД от явных дубликатов методом drop_duplicates. Обновим индексацию, чтобы избавиться от пропусков с помощью reset_index. Снова увидим количество явных дубликатов. Убедимся в их отсутствии"
   ]
  },
  {
   "cell_type": "code",
   "execution_count": null,
   "id": "9fc3a360-6825-438f-aab2-6450be55b4ef",
   "metadata": {},
   "outputs": [],
   "source": [
    "df = df.drop_duplicates().reset_index(drop=True);\n",
    "print(df.duplicated().sum());"
   ]
  },
  {
   "cell_type": "markdown",
   "id": "fc0da7a9-97c2-413c-98f3-e94a9bf35c9e",
   "metadata": {},
   "source": [
    "Перейдем к неяным дубликатам. Вернем перечень уникальных значений столбца name. Заметим, что столбец состоит почти полностью из уникальных данных, поэтому перейдем к следующим полям"
   ]
  },
  {
   "cell_type": "code",
   "execution_count": null,
   "id": "50a5889f-684b-408c-ad72-05f4759228ec",
   "metadata": {},
   "outputs": [],
   "source": [
    "y = df['name'].unique();\n",
    "for i in range(len(y)):\n",
    "    print(y[i]);"
   ]
  },
  {
   "cell_type": "markdown",
   "id": "8217e155-a054-49d3-9e6b-c8dc76b62d2c",
   "metadata": {},
   "source": [
    "Исследуем уникальные значения остальных текстовых полей"
   ]
  },
  {
   "cell_type": "code",
   "execution_count": null,
   "id": "8032d538-b5a5-4188-b4de-75f0d6be5c07",
   "metadata": {},
   "outputs": [],
   "source": [
    "print(df['year'].unique());\n",
    "print(df['fuel'].unique());\n",
    "print(df['seller_type'].unique());\n",
    "print(df['transmission'].unique());\n",
    "print(df['owner'].unique());"
   ]
  },
  {
   "cell_type": "markdown",
   "id": "4469c506-a651-48b1-9ac0-5494a07db468",
   "metadata": {},
   "source": [
    "Найдем неявные дубликаты в виде опечаток в уже существующих значениях. Заменим эти данных в столбцах fuel и seller_type методом replace"
   ]
  },
  {
   "cell_type": "code",
   "execution_count": null,
   "id": "aab7bbd6-f042-4568-827b-505d8978f809",
   "metadata": {},
   "outputs": [],
   "source": [
    "df['fuel'] = df['fuel'].replace('Petroll','Petrol');\n",
    "print(df['fuel'].unique());"
   ]
  },
  {
   "cell_type": "code",
   "execution_count": null,
   "id": "45ad1777-8762-4dbb-a032-e66206d06d65",
   "metadata": {},
   "outputs": [],
   "source": [
    "df['seller_type'] = df['seller_type'].replace('Dealeer','Dealer');\n",
    "print(df['seller_type'].unique());"
   ]
  },
  {
   "cell_type": "markdown",
   "id": "f1693d67-cec7-4ccf-8a12-55201a59acbf",
   "metadata": {},
   "source": [
    "Исследуем уникальные значения числовых полей"
   ]
  },
  {
   "cell_type": "code",
   "execution_count": null,
   "id": "ce54e317-6bf1-402e-8f00-983186af7f37",
   "metadata": {},
   "outputs": [],
   "source": [
    "print(df['selling_price'].unique());\n",
    "print(df['kmdriven'].unique());"
   ]
  },
  {
   "cell_type": "markdown",
   "id": "36285261-7c2f-4d82-9192-960cb68f598d",
   "metadata": {},
   "source": [
    "Поменяем тип данных на int, так как все значения в выбранных полях целые"
   ]
  },
  {
   "cell_type": "code",
   "execution_count": null,
   "id": "eebfa4e7-0866-4b5b-873a-d3352ca0083f",
   "metadata": {},
   "outputs": [],
   "source": [
    "df['selling_price'] = df.selling_price.astype(int);\n",
    "df['kmdriven'] = df.kmdriven.astype(int);\n",
    "print(df.info());"
   ]
  },
  {
   "cell_type": "markdown",
   "id": "798ed922-9bf8-4d81-b85a-d44605900aca",
   "metadata": {},
   "source": [
    "Перейдем к группировке. Сгруппируем тип коробки передач (transmission) по количеству разных типов топлива (fuel), используя groupby"
   ]
  },
  {
   "cell_type": "code",
   "execution_count": null,
   "id": "47f015a5-de69-4dd7-a441-94c8e16b1cbd",
   "metadata": {},
   "outputs": [],
   "source": [
    "print(df.groupby(['transmission', 'fuel'])['fuel'].count());"
   ]
  },
  {
   "cell_type": "markdown",
   "id": "5474ba38-2b99-4e2c-9ee5-f1f5c278569c",
   "metadata": {},
   "source": [
    "Создадим датафрейм из группы, поменяем название последнего поля на count"
   ]
  },
  {
   "cell_type": "code",
   "execution_count": null,
   "id": "79dc1b65-e376-4143-b853-4a10bdd62ef5",
   "metadata": {},
   "outputs": [],
   "source": [
    "group = df.groupby(['transmission', 'fuel'])['fuel'].count().reset_index(name='count');\n",
    "print(group);"
   ]
  },
  {
   "cell_type": "markdown",
   "id": "ddc05739-ec4e-4e2a-9e14-2eebc6ed4585",
   "metadata": {},
   "source": [
    "Перейдем к сортировке. Отсортируем датафрейм по убыванию столбца count"
   ]
  },
  {
   "cell_type": "code",
   "execution_count": null,
   "id": "775120fe-4705-409b-a51f-acf4ab511023",
   "metadata": {},
   "outputs": [],
   "source": [
    "print(group.sort_values(by='count', ascending=False));"
   ]
  },
  {
   "cell_type": "markdown",
   "id": "a004d758-32af-4b5e-9962-04cfdd8a63e3",
   "metadata": {},
   "source": [
    "Создадим сводные таблицы, используя метод pivot_table. Первая таблица основана на средней стоимости для каждого года year. Отсортирована по\r\n",
    "убыванию .Значения округлень до трёх знаокв."
   ]
  },
  {
   "cell_type": "code",
   "execution_count": null,
   "id": "94ac5b85-9735-4393-ae85-83ba8b892e11",
   "metadata": {},
   "outputs": [],
   "source": [
    "print(df.pivot_table(index='year', values='selling_price', aggfunc='mean').round(3).sort_values(by='selling_price', ascending=False));"
   ]
  },
  {
   "cell_type": "markdown",
   "id": "f2ca22c9-0a07-43e8-bdd2-b6dd824ff8a0",
   "metadata": {},
   "source": [
    "Вторая таблица основана на среднем количестве пройденных километров для каждого типа коробки передач transmission - строки и типа топлива - fuel - столбцы. Отсортирована по возрастанию transmission. Значения округлены до двух знаков"
   ]
  },
  {
   "cell_type": "code",
   "execution_count": null,
   "id": "fadfc737-3018-43e3-985f-c244693de21c",
   "metadata": {},
   "outputs": [],
   "source": [
    "print(df.pivot_table(index='transmission', columns='fuel', values='kmdriven', aggfunc='mean').round(2).sort_values(by='transmission'));"
   ]
  }
 ],
 "metadata": {
  "kernelspec": {
   "display_name": "Python 3 (ipykernel)",
   "language": "python",
   "name": "python3"
  },
  "language_info": {
   "codemirror_mode": {
    "name": "ipython",
    "version": 3
   },
   "file_extension": ".py",
   "mimetype": "text/x-python",
   "name": "python",
   "nbconvert_exporter": "python",
   "pygments_lexer": "ipython3",
   "version": "3.12.4"
  }
 },
 "nbformat": 4,
 "nbformat_minor": 5
}
